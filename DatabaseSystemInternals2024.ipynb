{
 "cells": [
  {
   "cell_type": "markdown",
   "id": "8c2d14d6-0669-45dc-b533-556881b9980d",
   "metadata": {},
   "source": [
    "# Summative 1"
   ]
  },
  {
   "cell_type": "code",
   "execution_count": 49,
   "id": "f72f950e-bf19-4eb2-a4e5-3a6a60375152",
   "metadata": {},
   "outputs": [],
   "source": [
    "query = \"\"\"SELECT COUNT(f.flight_id) as number_of_flights, a.iso_country\n",
    "FROM flight f\n",
    "        INNER JOIN airport a\n",
    "                    ON f.departure_airport = a.airport_code\n",
    "GROUP BY a.iso_country\n",
    "ORDER BY number_of_flights ASC;\"\"\""
   ]
  },
  {
   "cell_type": "code",
   "execution_count": 50,
   "id": "ebd949b0-1652-4e35-9313-e35f089ef769",
   "metadata": {},
   "outputs": [],
   "source": [
    "import psycopg2\n",
    "import pprint\n",
    "\n",
    "conn = psycopg2.connect(dbname=\"postgres_air\", user=\"postgres_air\", password=\"postgres_air\", host = \"localhost\")\n",
    "cur = conn.cursor()\n",
    "\n",
    "# Execute a query\n",
    "cur.execute(query)\n",
    "\n",
    "# Retrieve query results\n",
    "records = cur.fetchall()\n",
    "\n",
    "#pprint.pprint(records)"
   ]
  },
  {
   "cell_type": "code",
   "execution_count": 29,
   "id": "5c423c5e-142e-4a2b-8571-54ded42ff873",
   "metadata": {},
   "outputs": [],
   "source": [
    "# create a list of all country codes\n",
    "country_list = []\n",
    "for record in records:\n",
    "    country_list.append(record[1])"
   ]
  },
  {
   "cell_type": "code",
   "execution_count": null,
   "id": "79b91235-76af-48af-9638-01c8c9db81aa",
   "metadata": {},
   "outputs": [],
   "source": [
    "def "
   ]
  },
  {
   "cell_type": "code",
   "execution_count": 31,
   "id": "9829799a-c243-46ba-8cb9-0a08ac356729",
   "metadata": {},
   "outputs": [],
   "source": [
    "#country_list"
   ]
  },
  {
   "cell_type": "code",
   "execution_count": null,
   "id": "2550f24b-ab99-4894-9e34-5daaaf630301",
   "metadata": {},
   "outputs": [],
   "source": [
    "countries = \"\"\n",
    "for country in country_list:\n",
    "    #add to string for query\n",
    "    #create query \n",
    "    #execute query\n",
    "    #explain query\n",
    "    #check for index or full scan"
   ]
  },
  {
   "cell_type": "code",
   "execution_count": 54,
   "id": "eb63900e-43c7-4593-99e7-b6ba325765e0",
   "metadata": {},
   "outputs": [],
   "source": [
    "query = \"\"\"EXPLAIN\n",
    "SELECT flight_id\n",
    "     , scheduled_departure\n",
    "  FROM flight f\n",
    "           JOIN airport a ON departure_airport = airport_code\n",
    "      AND iso_country IN ('KP', 'LY');\"\"\""
   ]
  },
  {
   "cell_type": "code",
   "execution_count": 58,
   "id": "523acbf8-1e5c-4050-be99-5e2d3098d5fe",
   "metadata": {},
   "outputs": [],
   "source": [
    "cur = conn.cursor()\n",
    "# Execute a query\n",
    "cur.execute(query)\n",
    "\n",
    "# Retrieve query results\n",
    "execution_plan = cur.fetchall()\n",
    "\n",
    "#pprint.pprint(records)"
   ]
  },
  {
   "cell_type": "code",
   "execution_count": 59,
   "id": "2ffafeac-7042-4a80-8024-dd3e8ed64524",
   "metadata": {},
   "outputs": [
    {
     "data": {
      "text/plain": [
       "[('Nested Loop  (cost=12.66..5768.60 rows=1975 width=12)',),\n",
       " ('  ->  Seq Scan on airport a  (cost=0.00..18.65 rows=2 width=4)',),\n",
       " (\"        Filter: (iso_country = ANY ('{KP,LY}'::text[]))\",),\n",
       " ('  ->  Bitmap Heap Scan on flight f  (cost=12.66..2864.36 rows=1062 width=16)',),\n",
       " ('        Recheck Cond: (departure_airport = a.airport_code)',),\n",
       " ('        ->  Bitmap Index Scan on flight_departure_airport  (cost=0.00..12.39 rows=1062 width=0)',),\n",
       " ('              Index Cond: (departure_airport = a.airport_code)',)]"
      ]
     },
     "execution_count": 59,
     "metadata": {},
     "output_type": "execute_result"
    }
   ],
   "source": [
    "execution_plan"
   ]
  },
  {
   "cell_type": "code",
   "execution_count": 64,
   "id": "82e14582-e8a6-47b6-adc8-857e41ee71aa",
   "metadata": {},
   "outputs": [],
   "source": [
    "index_present = False\n",
    "for element in execution_plan:\n",
    "    if element[0].find(\"Index Scan\"):\n",
    "        index_present = True"
   ]
  },
  {
   "cell_type": "code",
   "execution_count": 63,
   "id": "d9fb76ea-34cf-4673-b481-6b4b9db86a26",
   "metadata": {},
   "outputs": [
    {
     "data": {
      "text/plain": [
       "'Nested Loop  (cost=12.66..5768.60 rows=1975 width=12)'"
      ]
     },
     "execution_count": 63,
     "metadata": {},
     "output_type": "execute_result"
    }
   ],
   "source": [
    "execution_plan[0][0]"
   ]
  },
  {
   "cell_type": "code",
   "execution_count": 65,
   "id": "5837aef4-0019-48d4-8016-bdc70da26bab",
   "metadata": {},
   "outputs": [
    {
     "data": {
      "text/plain": [
       "True"
      ]
     },
     "execution_count": 65,
     "metadata": {},
     "output_type": "execute_result"
    }
   ],
   "source": [
    "index_present"
   ]
  },
  {
   "cell_type": "code",
   "execution_count": null,
   "id": "7e746fea-6e3b-45bb-b171-68394b93a3f8",
   "metadata": {},
   "outputs": [],
   "source": []
  }
 ],
 "metadata": {
  "kernelspec": {
   "display_name": "Python 3 (ipykernel)",
   "language": "python",
   "name": "python3"
  },
  "language_info": {
   "codemirror_mode": {
    "name": "ipython",
    "version": 3
   },
   "file_extension": ".py",
   "mimetype": "text/x-python",
   "name": "python",
   "nbconvert_exporter": "python",
   "pygments_lexer": "ipython3",
   "version": "3.12.7"
  }
 },
 "nbformat": 4,
 "nbformat_minor": 5
}
